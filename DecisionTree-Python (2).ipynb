{
 "cells": [
  {
   "cell_type": "markdown",
   "metadata": {},
   "source": [
    "# Decision Tree in Python</font>\n"
   ]
  },
  {
   "cell_type": "code",
   "execution_count": null,
   "metadata": {},
   "outputs": [],
   "source": [
    "!pip install --upgrade pydot"
   ]
  },
  {
   "cell_type": "code",
   "execution_count": null,
   "metadata": {},
   "outputs": [],
   "source": [
    "!pip install --upgrade graphviz"
   ]
  },
  {
   "cell_type": "code",
   "execution_count": null,
   "metadata": {},
   "outputs": [],
   "source": [
    "#!pip install graphviz\n",
    "\n",
    "# You may need to run this command (CMD) for windows\n",
    "#!conda install python-graphviz\n",
    "\n",
    "# Documentation http://www.graphviz.org"
   ]
  },
  {
   "cell_type": "code",
   "execution_count": null,
   "metadata": {},
   "outputs": [],
   "source": [
    "# Importing packages\n",
    "import pandas as pd\n",
    "from sklearn.tree import DecisionTreeClassifier\n",
    "from sklearn.tree import export_graphviz\n",
    "import pydot\n",
    "import graphviz"
   ]
  },
  {
   "cell_type": "code",
   "execution_count": null,
   "metadata": {},
   "outputs": [],
   "source": [
    "# Creating a dataset\n",
    "instances = [\n",
    "    {'Best Friend': False, 'Species': 'Dog'},\n",
    "    {'Best Friend': True, 'Species': 'Dog'},\n",
    "    {'Best Friend': True, 'Species': 'Cat'},\n",
    "    {'Best Friend': True, 'Species': 'Cat'},\n",
    "    {'Best Friend': False, 'Species': 'Cat'},\n",
    "    {'Best Friend': True, 'Species': 'Cat'},\n",
    "    {'Best Friend': True, 'Species': 'Cat'},\n",
    "    {'Best Friend': False, 'Species': 'Dog'},\n",
    "    {'Best Friend': True, 'Species': 'Cat'},\n",
    "    {'Best Friend': False, 'Species': 'Dog'},\n",
    "    {'Best Friend': False, 'Species': 'Dog'},\n",
    "    {'Best Friend': False, 'Species': 'Cat'},\n",
    "    {'Best Friend': True, 'Species': 'Cat'},\n",
    "    {'Best Friend': True, 'Species': 'Dog'}\n",
    "]"
   ]
  },
  {
   "cell_type": "code",
   "execution_count": null,
   "metadata": {},
   "outputs": [],
   "source": [
    "# Turning the Dictionary into DataFrame\n",
    "df = pd.DataFrame(instances)"
   ]
  },
  {
   "cell_type": "code",
   "execution_count": null,
   "metadata": {},
   "outputs": [],
   "source": [
    "df"
   ]
  },
  {
   "cell_type": "code",
   "execution_count": null,
   "metadata": {},
   "outputs": [],
   "source": [
    "# Preparing training and test data\n",
    "X_train = [[1] if a else [0] for a in df['Best Friend']]\n",
    "y_train = [1 if d == 'Dog' else 0 for d in df['Species']]\n",
    "labels = ['Best Friend']"
   ]
  },
  {
   "cell_type": "code",
   "execution_count": null,
   "metadata": {},
   "outputs": [],
   "source": [
    "print(X_train)"
   ]
  },
  {
   "cell_type": "code",
   "execution_count": null,
   "metadata": {},
   "outputs": [],
   "source": [
    "print(y_train)"
   ]
  },
  {
   "cell_type": "code",
   "execution_count": null,
   "metadata": {},
   "outputs": [],
   "source": [
    "# Building the Entropy-Based Classifier\n",
    "# http://scikit-learn.org/stable/modules/generated/sklearn.tree.DecisionTreeClassifier.html\n",
    "model_v1 = DecisionTreeClassifier(max_depth = None, \n",
    "                                   max_features = None, \n",
    "                                   criterion = 'entropy', \n",
    "                                   min_samples_leaf = 1, \n",
    "                                   min_samples_split = 2)"
   ]
  },
  {
   "cell_type": "code",
   "execution_count": null,
   "metadata": {},
   "outputs": [],
   "source": [
    "# Presenting the data to the Classifier\n",
    "model_v1.fit(X_train, y_train)"
   ]
  },
  {
   "cell_type": "code",
   "execution_count": null,
   "metadata": {},
   "outputs": [],
   "source": [
    "import os\n",
    "cwd = os. getcwd()\n",
    "print(cwd)"
   ]
  },
  {
   "cell_type": "code",
   "execution_count": null,
   "metadata": {},
   "outputs": [],
   "source": [
    "# Setting the file name with the decision tree\n",
    "file = 'Users\\anell\\OneDrive\\Documents\\MachineLearning\\decisiontree\\tree_model.dot'"
   ]
  },
  {
   "cell_type": "code",
   "execution_count": null,
   "metadata": {},
   "outputs": [],
   "source": [
    "# Generating the decision tree graph\n",
    "export_graphviz(model_v1, out_file = file, feature_names = labels)\n",
    "with open(file) as f:\n",
    "    dot_graph = f.read()\n",
    "graphviz.Source(dot_graph)"
   ]
  },
  {
   "cell_type": "code",
   "execution_count": null,
   "metadata": {},
   "outputs": [],
   "source": [
    "!dot -Tpng tree_model_v1.dot -o tree_model_v1.png"
   ]
  },
  {
   "cell_type": "code",
   "execution_count": null,
   "metadata": {},
   "outputs": [],
   "source": [
    "# Building the Classifier Based on the Gini Index\n",
    "# http://scikit-learn.org/stable/modules/generated/sklearn.tree.DecisionTreeClassifier.html\n",
    "model_v2 = DecisionTreeClassifier(max_depth = None, \n",
    "                                   max_features = None, \n",
    "                                   min_samples_leaf = 1, \n",
    "                                   min_samples_split = 2)"
   ]
  },
  {
   "cell_type": "code",
   "execution_count": null,
   "metadata": {},
   "outputs": [],
   "source": [
    "# Presenting the data to the Classifier\n",
    "model_v2.fit(X_train, y_train)"
   ]
  },
  {
   "cell_type": "code",
   "execution_count": null,
   "metadata": {},
   "outputs": [],
   "source": [
    "# Setting the file name with the decision tree\n",
    "file = file = '/User/Documents/MachineLearning/Python/DecisionTree''"
   ]
  },
  {
   "cell_type": "code",
   "execution_count": null,
   "metadata": {},
   "outputs": [],
   "source": [
    "# Gerando o gráfico da árvore de decisão\n",
    "export_graphviz(model_v2, out_file = file, feature_names = labels)\n",
    "with open(file) as f:\n",
    "    dot_graph = f.read()\n",
    "graphviz.Source(dot_graph)"
   ]
  },
  {
   "cell_type": "code",
   "execution_count": null,
   "metadata": {},
   "outputs": [],
   "source": [
    "!dot -Tpng tree_model_v2.dot -o tree_model_v2.png"
   ]
  }
 ],
 "metadata": {
  "anaconda-cloud": {},
  "kernelspec": {
   "display_name": "Python 3",
   "language": "python",
   "name": "python3"
  },
  "language_info": {
   "codemirror_mode": {
    "name": "ipython",
    "version": 3
   },
   "file_extension": ".py",
   "mimetype": "text/x-python",
   "name": "python",
   "nbconvert_exporter": "python",
   "pygments_lexer": "ipython3",
   "version": "3.8.1"
  }
 },
 "nbformat": 4,
 "nbformat_minor": 1
}
